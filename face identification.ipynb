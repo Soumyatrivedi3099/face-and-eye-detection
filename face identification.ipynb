{
 "cells": [
  {
   "cell_type": "code",
   "execution_count": 1,
   "metadata": {},
   "outputs": [],
   "source": [
    "import cv2\n",
    "import numpy as np\n",
    "face_cascade=cv2.CascadeClassifier(r'C:\\Users\\hp\\Desktop\\haarcascade_frontalface_default.xml')\n",
    "eye_cascade=cv2.CascadeClassifier(r\"C:\\Users\\hp\\Desktop\\haarcascade_eye.xml\")\n",
    "cap=cv2.VideoCapture(0)"
   ]
  },
  {
   "cell_type": "code",
   "execution_count": null,
   "metadata": {},
   "outputs": [],
   "source": [
    "while(True):\n",
    "    ret,frame=cap.read()\n",
    "    gray=cv2.cvtColor(frame,cv2.COLOR_BGR2GRAY)\n",
    "    faces=face_cascade.detectMultiScale(gray,scaleFactor=1.5,minNeighbors=5)\n",
    "    for (x,y,w,h) in faces:\n",
    "        print(x,y,w,h)\n",
    "        roi_gray=gray[y:y+h,x:x+w]\n",
    "        roi_color=frame[y:y+h,x:x+w]\n",
    "        img_item='my-image.jpg'\n",
    "        \n",
    "        cv2.imwrite(img_item, roi_gray)\n",
    "        color=(255,0,0)\n",
    "        stroke=2\n",
    "        width=x+w\n",
    "        height=y+h\n",
    "        cv2.rectangle(frame,(x,y),(width,height),color,stroke) \n",
    "        eyes=eye_cascade.detectMultiScale(roi_gray)\n",
    "        for (ex,ey,ew,eh) in eyes:\n",
    "            c=(0,127,255)\n",
    "            e=ex+ew\n",
    "            b=ey+eh\n",
    "            cv2.rectangle(roi_color,(ex,ey),(e,b),c,stroke)\n",
    "    cv2.imshow('frame',frame)\n",
    "    if cv2.waitKey(30) & 0xff == ord('q'):\n",
    "            break\n",
    "cap.release()\n",
    "cv2.destroyAllWindow()\n"
   ]
  }
 ],
 "metadata": {
  "kernelspec": {
   "display_name": "Python 3",
   "language": "python",
   "name": "python3"
  },
  "language_info": {
   "codemirror_mode": {
    "name": "ipython",
    "version": 3
   },
   "file_extension": ".py",
   "mimetype": "text/x-python",
   "name": "python",
   "nbconvert_exporter": "python",
   "pygments_lexer": "ipython3",
   "version": "3.7.1"
  }
 },
 "nbformat": 4,
 "nbformat_minor": 2
}
